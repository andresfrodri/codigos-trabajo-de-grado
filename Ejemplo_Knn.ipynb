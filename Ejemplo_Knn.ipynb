{
  "nbformat": 4,
  "nbformat_minor": 0,
  "metadata": {
    "colab": {
      "name": "Ejemplo-Knn.ipynb",
      "provenance": [],
      "collapsed_sections": []
    },
    "kernelspec": {
      "name": "python3",
      "display_name": "Python 3"
    },
    "language_info": {
      "name": "python"
    }
  },
  "cells": [
    {
      "cell_type": "markdown",
      "source": [
        "# Regresion k-nn"
      ],
      "metadata": {
        "id": "EybvuvLIb8y3"
      }
    },
    {
      "cell_type": "code",
      "execution_count": null,
      "metadata": {
        "id": "nJttZH6Fb4wa"
      },
      "outputs": [],
      "source": [
        "import numpy as np\n",
        "import pandas as pd\n",
        "import matplotlib.pyplot as plt\n",
        "import seaborn as sns"
      ]
    },
    {
      "cell_type": "code",
      "source": [
        "from sklearn.datasets import make_classification\n",
        "features,labels = make_classification(n_samples=350, n_redundant=0 ,n_features=2, n_classes=2, \n",
        "                                      n_clusters_per_class=1 ,random_state=221 )"
      ],
      "metadata": {
        "id": "FLYiTqjQcOaV"
      },
      "execution_count": null,
      "outputs": []
    },
    {
      "cell_type": "code",
      "source": [
        "features_name=[\"Feature_01\",\"Feature_02\"]"
      ],
      "metadata": {
        "id": "qdgSddthc1ot"
      },
      "execution_count": null,
      "outputs": []
    },
    {
      "cell_type": "code",
      "source": [
        "features_df=pd.DataFrame(features,columns=features_name)\n",
        "features_df.head()"
      ],
      "metadata": {
        "colab": {
          "base_uri": "https://localhost:8080/",
          "height": 206
        },
        "id": "IlX8vINJc6q0",
        "outputId": "b5515caf-35b7-49d9-acb4-6160d66aee6b"
      },
      "execution_count": null,
      "outputs": [
        {
          "output_type": "execute_result",
          "data": {
            "text/plain": [
              "   Feature_01  Feature_02\n",
              "0    0.614507    1.066386\n",
              "1    1.408239   -1.515447\n",
              "2    1.182296   -0.817138\n",
              "3    0.547991    1.232886\n",
              "4    1.507634    1.436804"
            ],
            "text/html": [
              "\n",
              "  <div id=\"df-e6b377e8-7836-4807-8395-2b82112a6b34\">\n",
              "    <div class=\"colab-df-container\">\n",
              "      <div>\n",
              "<style scoped>\n",
              "    .dataframe tbody tr th:only-of-type {\n",
              "        vertical-align: middle;\n",
              "    }\n",
              "\n",
              "    .dataframe tbody tr th {\n",
              "        vertical-align: top;\n",
              "    }\n",
              "\n",
              "    .dataframe thead th {\n",
              "        text-align: right;\n",
              "    }\n",
              "</style>\n",
              "<table border=\"1\" class=\"dataframe\">\n",
              "  <thead>\n",
              "    <tr style=\"text-align: right;\">\n",
              "      <th></th>\n",
              "      <th>Feature_01</th>\n",
              "      <th>Feature_02</th>\n",
              "    </tr>\n",
              "  </thead>\n",
              "  <tbody>\n",
              "    <tr>\n",
              "      <th>0</th>\n",
              "      <td>0.614507</td>\n",
              "      <td>1.066386</td>\n",
              "    </tr>\n",
              "    <tr>\n",
              "      <th>1</th>\n",
              "      <td>1.408239</td>\n",
              "      <td>-1.515447</td>\n",
              "    </tr>\n",
              "    <tr>\n",
              "      <th>2</th>\n",
              "      <td>1.182296</td>\n",
              "      <td>-0.817138</td>\n",
              "    </tr>\n",
              "    <tr>\n",
              "      <th>3</th>\n",
              "      <td>0.547991</td>\n",
              "      <td>1.232886</td>\n",
              "    </tr>\n",
              "    <tr>\n",
              "      <th>4</th>\n",
              "      <td>1.507634</td>\n",
              "      <td>1.436804</td>\n",
              "    </tr>\n",
              "  </tbody>\n",
              "</table>\n",
              "</div>\n",
              "      <button class=\"colab-df-convert\" onclick=\"convertToInteractive('df-e6b377e8-7836-4807-8395-2b82112a6b34')\"\n",
              "              title=\"Convert this dataframe to an interactive table.\"\n",
              "              style=\"display:none;\">\n",
              "        \n",
              "  <svg xmlns=\"http://www.w3.org/2000/svg\" height=\"24px\"viewBox=\"0 0 24 24\"\n",
              "       width=\"24px\">\n",
              "    <path d=\"M0 0h24v24H0V0z\" fill=\"none\"/>\n",
              "    <path d=\"M18.56 5.44l.94 2.06.94-2.06 2.06-.94-2.06-.94-.94-2.06-.94 2.06-2.06.94zm-11 1L8.5 8.5l.94-2.06 2.06-.94-2.06-.94L8.5 2.5l-.94 2.06-2.06.94zm10 10l.94 2.06.94-2.06 2.06-.94-2.06-.94-.94-2.06-.94 2.06-2.06.94z\"/><path d=\"M17.41 7.96l-1.37-1.37c-.4-.4-.92-.59-1.43-.59-.52 0-1.04.2-1.43.59L10.3 9.45l-7.72 7.72c-.78.78-.78 2.05 0 2.83L4 21.41c.39.39.9.59 1.41.59.51 0 1.02-.2 1.41-.59l7.78-7.78 2.81-2.81c.8-.78.8-2.07 0-2.86zM5.41 20L4 18.59l7.72-7.72 1.47 1.35L5.41 20z\"/>\n",
              "  </svg>\n",
              "      </button>\n",
              "      \n",
              "  <style>\n",
              "    .colab-df-container {\n",
              "      display:flex;\n",
              "      flex-wrap:wrap;\n",
              "      gap: 12px;\n",
              "    }\n",
              "\n",
              "    .colab-df-convert {\n",
              "      background-color: #E8F0FE;\n",
              "      border: none;\n",
              "      border-radius: 50%;\n",
              "      cursor: pointer;\n",
              "      display: none;\n",
              "      fill: #1967D2;\n",
              "      height: 32px;\n",
              "      padding: 0 0 0 0;\n",
              "      width: 32px;\n",
              "    }\n",
              "\n",
              "    .colab-df-convert:hover {\n",
              "      background-color: #E2EBFA;\n",
              "      box-shadow: 0px 1px 2px rgba(60, 64, 67, 0.3), 0px 1px 3px 1px rgba(60, 64, 67, 0.15);\n",
              "      fill: #174EA6;\n",
              "    }\n",
              "\n",
              "    [theme=dark] .colab-df-convert {\n",
              "      background-color: #3B4455;\n",
              "      fill: #D2E3FC;\n",
              "    }\n",
              "\n",
              "    [theme=dark] .colab-df-convert:hover {\n",
              "      background-color: #434B5C;\n",
              "      box-shadow: 0px 1px 3px 1px rgba(0, 0, 0, 0.15);\n",
              "      filter: drop-shadow(0px 1px 2px rgba(0, 0, 0, 0.3));\n",
              "      fill: #FFFFFF;\n",
              "    }\n",
              "  </style>\n",
              "\n",
              "      <script>\n",
              "        const buttonEl =\n",
              "          document.querySelector('#df-e6b377e8-7836-4807-8395-2b82112a6b34 button.colab-df-convert');\n",
              "        buttonEl.style.display =\n",
              "          google.colab.kernel.accessAllowed ? 'block' : 'none';\n",
              "\n",
              "        async function convertToInteractive(key) {\n",
              "          const element = document.querySelector('#df-e6b377e8-7836-4807-8395-2b82112a6b34');\n",
              "          const dataTable =\n",
              "            await google.colab.kernel.invokeFunction('convertToInteractive',\n",
              "                                                     [key], {});\n",
              "          if (!dataTable) return;\n",
              "\n",
              "          const docLinkHtml = 'Like what you see? Visit the ' +\n",
              "            '<a target=\"_blank\" href=https://colab.research.google.com/notebooks/data_table.ipynb>data table notebook</a>'\n",
              "            + ' to learn more about interactive tables.';\n",
              "          element.innerHTML = '';\n",
              "          dataTable['output_type'] = 'display_data';\n",
              "          await google.colab.output.renderOutput(dataTable, element);\n",
              "          const docLink = document.createElement('div');\n",
              "          docLink.innerHTML = docLinkHtml;\n",
              "          element.appendChild(docLink);\n",
              "        }\n",
              "      </script>\n",
              "    </div>\n",
              "  </div>\n",
              "  "
            ]
          },
          "metadata": {},
          "execution_count": 349
        }
      ]
    },
    {
      "cell_type": "code",
      "source": [
        "labels_name=['Output']\n",
        "\n",
        "labels_df= pd.DataFrame(labels,columns=labels_name)\n",
        "labels_df.head()"
      ],
      "metadata": {
        "colab": {
          "base_uri": "https://localhost:8080/",
          "height": 206
        },
        "id": "kxON2xnxdAok",
        "outputId": "b5148383-fa65-4c86-ea1e-d8bd0adab02b"
      },
      "execution_count": null,
      "outputs": [
        {
          "output_type": "execute_result",
          "data": {
            "text/plain": [
              "   Output\n",
              "0       1\n",
              "1       0\n",
              "2       0\n",
              "3       1\n",
              "4       1"
            ],
            "text/html": [
              "\n",
              "  <div id=\"df-8d75e625-33f1-45d0-add6-70f180dbb616\">\n",
              "    <div class=\"colab-df-container\">\n",
              "      <div>\n",
              "<style scoped>\n",
              "    .dataframe tbody tr th:only-of-type {\n",
              "        vertical-align: middle;\n",
              "    }\n",
              "\n",
              "    .dataframe tbody tr th {\n",
              "        vertical-align: top;\n",
              "    }\n",
              "\n",
              "    .dataframe thead th {\n",
              "        text-align: right;\n",
              "    }\n",
              "</style>\n",
              "<table border=\"1\" class=\"dataframe\">\n",
              "  <thead>\n",
              "    <tr style=\"text-align: right;\">\n",
              "      <th></th>\n",
              "      <th>Output</th>\n",
              "    </tr>\n",
              "  </thead>\n",
              "  <tbody>\n",
              "    <tr>\n",
              "      <th>0</th>\n",
              "      <td>1</td>\n",
              "    </tr>\n",
              "    <tr>\n",
              "      <th>1</th>\n",
              "      <td>0</td>\n",
              "    </tr>\n",
              "    <tr>\n",
              "      <th>2</th>\n",
              "      <td>0</td>\n",
              "    </tr>\n",
              "    <tr>\n",
              "      <th>3</th>\n",
              "      <td>1</td>\n",
              "    </tr>\n",
              "    <tr>\n",
              "      <th>4</th>\n",
              "      <td>1</td>\n",
              "    </tr>\n",
              "  </tbody>\n",
              "</table>\n",
              "</div>\n",
              "      <button class=\"colab-df-convert\" onclick=\"convertToInteractive('df-8d75e625-33f1-45d0-add6-70f180dbb616')\"\n",
              "              title=\"Convert this dataframe to an interactive table.\"\n",
              "              style=\"display:none;\">\n",
              "        \n",
              "  <svg xmlns=\"http://www.w3.org/2000/svg\" height=\"24px\"viewBox=\"0 0 24 24\"\n",
              "       width=\"24px\">\n",
              "    <path d=\"M0 0h24v24H0V0z\" fill=\"none\"/>\n",
              "    <path d=\"M18.56 5.44l.94 2.06.94-2.06 2.06-.94-2.06-.94-.94-2.06-.94 2.06-2.06.94zm-11 1L8.5 8.5l.94-2.06 2.06-.94-2.06-.94L8.5 2.5l-.94 2.06-2.06.94zm10 10l.94 2.06.94-2.06 2.06-.94-2.06-.94-.94-2.06-.94 2.06-2.06.94z\"/><path d=\"M17.41 7.96l-1.37-1.37c-.4-.4-.92-.59-1.43-.59-.52 0-1.04.2-1.43.59L10.3 9.45l-7.72 7.72c-.78.78-.78 2.05 0 2.83L4 21.41c.39.39.9.59 1.41.59.51 0 1.02-.2 1.41-.59l7.78-7.78 2.81-2.81c.8-.78.8-2.07 0-2.86zM5.41 20L4 18.59l7.72-7.72 1.47 1.35L5.41 20z\"/>\n",
              "  </svg>\n",
              "      </button>\n",
              "      \n",
              "  <style>\n",
              "    .colab-df-container {\n",
              "      display:flex;\n",
              "      flex-wrap:wrap;\n",
              "      gap: 12px;\n",
              "    }\n",
              "\n",
              "    .colab-df-convert {\n",
              "      background-color: #E8F0FE;\n",
              "      border: none;\n",
              "      border-radius: 50%;\n",
              "      cursor: pointer;\n",
              "      display: none;\n",
              "      fill: #1967D2;\n",
              "      height: 32px;\n",
              "      padding: 0 0 0 0;\n",
              "      width: 32px;\n",
              "    }\n",
              "\n",
              "    .colab-df-convert:hover {\n",
              "      background-color: #E2EBFA;\n",
              "      box-shadow: 0px 1px 2px rgba(60, 64, 67, 0.3), 0px 1px 3px 1px rgba(60, 64, 67, 0.15);\n",
              "      fill: #174EA6;\n",
              "    }\n",
              "\n",
              "    [theme=dark] .colab-df-convert {\n",
              "      background-color: #3B4455;\n",
              "      fill: #D2E3FC;\n",
              "    }\n",
              "\n",
              "    [theme=dark] .colab-df-convert:hover {\n",
              "      background-color: #434B5C;\n",
              "      box-shadow: 0px 1px 3px 1px rgba(0, 0, 0, 0.15);\n",
              "      filter: drop-shadow(0px 1px 2px rgba(0, 0, 0, 0.3));\n",
              "      fill: #FFFFFF;\n",
              "    }\n",
              "  </style>\n",
              "\n",
              "      <script>\n",
              "        const buttonEl =\n",
              "          document.querySelector('#df-8d75e625-33f1-45d0-add6-70f180dbb616 button.colab-df-convert');\n",
              "        buttonEl.style.display =\n",
              "          google.colab.kernel.accessAllowed ? 'block' : 'none';\n",
              "\n",
              "        async function convertToInteractive(key) {\n",
              "          const element = document.querySelector('#df-8d75e625-33f1-45d0-add6-70f180dbb616');\n",
              "          const dataTable =\n",
              "            await google.colab.kernel.invokeFunction('convertToInteractive',\n",
              "                                                     [key], {});\n",
              "          if (!dataTable) return;\n",
              "\n",
              "          const docLinkHtml = 'Like what you see? Visit the ' +\n",
              "            '<a target=\"_blank\" href=https://colab.research.google.com/notebooks/data_table.ipynb>data table notebook</a>'\n",
              "            + ' to learn more about interactive tables.';\n",
              "          element.innerHTML = '';\n",
              "          dataTable['output_type'] = 'display_data';\n",
              "          await google.colab.output.renderOutput(dataTable, element);\n",
              "          const docLink = document.createElement('div');\n",
              "          docLink.innerHTML = docLinkHtml;\n",
              "          element.appendChild(docLink);\n",
              "        }\n",
              "      </script>\n",
              "    </div>\n",
              "  </div>\n",
              "  "
            ]
          },
          "metadata": {},
          "execution_count": 350
        }
      ]
    },
    {
      "cell_type": "code",
      "source": [
        "dataset=pd.concat([features_df,labels_df],axis=1, join='inner',sort=False)\n",
        "dataset.head()"
      ],
      "metadata": {
        "colab": {
          "base_uri": "https://localhost:8080/",
          "height": 206
        },
        "id": "T7FbYgPtdIC8",
        "outputId": "5c10f7d2-f717-493f-e3fd-dba1d80497c3"
      },
      "execution_count": null,
      "outputs": [
        {
          "output_type": "execute_result",
          "data": {
            "text/plain": [
              "   Feature_01  Feature_02  Output\n",
              "0    0.614507    1.066386       1\n",
              "1    1.408239   -1.515447       0\n",
              "2    1.182296   -0.817138       0\n",
              "3    0.547991    1.232886       1\n",
              "4    1.507634    1.436804       1"
            ],
            "text/html": [
              "\n",
              "  <div id=\"df-f45e927e-d12b-4869-b38e-000c7e447869\">\n",
              "    <div class=\"colab-df-container\">\n",
              "      <div>\n",
              "<style scoped>\n",
              "    .dataframe tbody tr th:only-of-type {\n",
              "        vertical-align: middle;\n",
              "    }\n",
              "\n",
              "    .dataframe tbody tr th {\n",
              "        vertical-align: top;\n",
              "    }\n",
              "\n",
              "    .dataframe thead th {\n",
              "        text-align: right;\n",
              "    }\n",
              "</style>\n",
              "<table border=\"1\" class=\"dataframe\">\n",
              "  <thead>\n",
              "    <tr style=\"text-align: right;\">\n",
              "      <th></th>\n",
              "      <th>Feature_01</th>\n",
              "      <th>Feature_02</th>\n",
              "      <th>Output</th>\n",
              "    </tr>\n",
              "  </thead>\n",
              "  <tbody>\n",
              "    <tr>\n",
              "      <th>0</th>\n",
              "      <td>0.614507</td>\n",
              "      <td>1.066386</td>\n",
              "      <td>1</td>\n",
              "    </tr>\n",
              "    <tr>\n",
              "      <th>1</th>\n",
              "      <td>1.408239</td>\n",
              "      <td>-1.515447</td>\n",
              "      <td>0</td>\n",
              "    </tr>\n",
              "    <tr>\n",
              "      <th>2</th>\n",
              "      <td>1.182296</td>\n",
              "      <td>-0.817138</td>\n",
              "      <td>0</td>\n",
              "    </tr>\n",
              "    <tr>\n",
              "      <th>3</th>\n",
              "      <td>0.547991</td>\n",
              "      <td>1.232886</td>\n",
              "      <td>1</td>\n",
              "    </tr>\n",
              "    <tr>\n",
              "      <th>4</th>\n",
              "      <td>1.507634</td>\n",
              "      <td>1.436804</td>\n",
              "      <td>1</td>\n",
              "    </tr>\n",
              "  </tbody>\n",
              "</table>\n",
              "</div>\n",
              "      <button class=\"colab-df-convert\" onclick=\"convertToInteractive('df-f45e927e-d12b-4869-b38e-000c7e447869')\"\n",
              "              title=\"Convert this dataframe to an interactive table.\"\n",
              "              style=\"display:none;\">\n",
              "        \n",
              "  <svg xmlns=\"http://www.w3.org/2000/svg\" height=\"24px\"viewBox=\"0 0 24 24\"\n",
              "       width=\"24px\">\n",
              "    <path d=\"M0 0h24v24H0V0z\" fill=\"none\"/>\n",
              "    <path d=\"M18.56 5.44l.94 2.06.94-2.06 2.06-.94-2.06-.94-.94-2.06-.94 2.06-2.06.94zm-11 1L8.5 8.5l.94-2.06 2.06-.94-2.06-.94L8.5 2.5l-.94 2.06-2.06.94zm10 10l.94 2.06.94-2.06 2.06-.94-2.06-.94-.94-2.06-.94 2.06-2.06.94z\"/><path d=\"M17.41 7.96l-1.37-1.37c-.4-.4-.92-.59-1.43-.59-.52 0-1.04.2-1.43.59L10.3 9.45l-7.72 7.72c-.78.78-.78 2.05 0 2.83L4 21.41c.39.39.9.59 1.41.59.51 0 1.02-.2 1.41-.59l7.78-7.78 2.81-2.81c.8-.78.8-2.07 0-2.86zM5.41 20L4 18.59l7.72-7.72 1.47 1.35L5.41 20z\"/>\n",
              "  </svg>\n",
              "      </button>\n",
              "      \n",
              "  <style>\n",
              "    .colab-df-container {\n",
              "      display:flex;\n",
              "      flex-wrap:wrap;\n",
              "      gap: 12px;\n",
              "    }\n",
              "\n",
              "    .colab-df-convert {\n",
              "      background-color: #E8F0FE;\n",
              "      border: none;\n",
              "      border-radius: 50%;\n",
              "      cursor: pointer;\n",
              "      display: none;\n",
              "      fill: #1967D2;\n",
              "      height: 32px;\n",
              "      padding: 0 0 0 0;\n",
              "      width: 32px;\n",
              "    }\n",
              "\n",
              "    .colab-df-convert:hover {\n",
              "      background-color: #E2EBFA;\n",
              "      box-shadow: 0px 1px 2px rgba(60, 64, 67, 0.3), 0px 1px 3px 1px rgba(60, 64, 67, 0.15);\n",
              "      fill: #174EA6;\n",
              "    }\n",
              "\n",
              "    [theme=dark] .colab-df-convert {\n",
              "      background-color: #3B4455;\n",
              "      fill: #D2E3FC;\n",
              "    }\n",
              "\n",
              "    [theme=dark] .colab-df-convert:hover {\n",
              "      background-color: #434B5C;\n",
              "      box-shadow: 0px 1px 3px 1px rgba(0, 0, 0, 0.15);\n",
              "      filter: drop-shadow(0px 1px 2px rgba(0, 0, 0, 0.3));\n",
              "      fill: #FFFFFF;\n",
              "    }\n",
              "  </style>\n",
              "\n",
              "      <script>\n",
              "        const buttonEl =\n",
              "          document.querySelector('#df-f45e927e-d12b-4869-b38e-000c7e447869 button.colab-df-convert');\n",
              "        buttonEl.style.display =\n",
              "          google.colab.kernel.accessAllowed ? 'block' : 'none';\n",
              "\n",
              "        async function convertToInteractive(key) {\n",
              "          const element = document.querySelector('#df-f45e927e-d12b-4869-b38e-000c7e447869');\n",
              "          const dataTable =\n",
              "            await google.colab.kernel.invokeFunction('convertToInteractive',\n",
              "                                                     [key], {});\n",
              "          if (!dataTable) return;\n",
              "\n",
              "          const docLinkHtml = 'Like what you see? Visit the ' +\n",
              "            '<a target=\"_blank\" href=https://colab.research.google.com/notebooks/data_table.ipynb>data table notebook</a>'\n",
              "            + ' to learn more about interactive tables.';\n",
              "          element.innerHTML = '';\n",
              "          dataTable['output_type'] = 'display_data';\n",
              "          await google.colab.output.renderOutput(dataTable, element);\n",
              "          const docLink = document.createElement('div');\n",
              "          docLink.innerHTML = docLinkHtml;\n",
              "          element.appendChild(docLink);\n",
              "        }\n",
              "      </script>\n",
              "    </div>\n",
              "  </div>\n",
              "  "
            ]
          },
          "metadata": {},
          "execution_count": 351
        }
      ]
    },
    {
      "cell_type": "code",
      "source": [
        "sns.lmplot(x='Feature_01',y='Feature_02', data=dataset,fit_reg=False)"
      ],
      "metadata": {
        "colab": {
          "base_uri": "https://localhost:8080/",
          "height": 387
        },
        "id": "p6mTfJLBdKcd",
        "outputId": "5ee2c902-5ad0-4951-e5ba-f807152354b1"
      },
      "execution_count": null,
      "outputs": [
        {
          "output_type": "execute_result",
          "data": {
            "text/plain": [
              "<seaborn.axisgrid.FacetGrid at 0x7f466863f850>"
            ]
          },
          "metadata": {},
          "execution_count": 352
        },
        {
          "output_type": "display_data",
          "data": {
            "text/plain": [
              "<Figure size 360x360 with 1 Axes>"
            ],
            "image/png": "[encoded data removed]"
          },
          "metadata": {
            "needs_background": "light"
          }
        }
      ]
    },
    {
      "cell_type": "code",
      "source": [
        "from sklearn.model_selection import train_test_split\n",
        "X_train, X_test, y_train, y_test = train_test_split(features_df,labels_df,test_size=0.22,random_state=221)"
      ],
      "metadata": {
        "id": "awGFw_j9eQa3"
      },
      "execution_count": null,
      "outputs": []
    },
    {
      "cell_type": "code",
      "source": [
        "from sklearn.neighbors import KNeighborsClassifier\n"
      ],
      "metadata": {
        "id": "DTp6sbgdebku"
      },
      "execution_count": null,
      "outputs": []
    },
    {
      "cell_type": "markdown",
      "source": [
        "## Con $n=2$"
      ],
      "metadata": {
        "id": "LrukCROou4Zk"
      }
    },
    {
      "cell_type": "code",
      "source": [
        "knn_clf2=KNeighborsClassifier(n_neighbors=2)\n",
        "knn_clf2.fit(X_train, y_train)"
      ],
      "metadata": {
        "colab": {
          "base_uri": "https://localhost:8080/"
        },
        "id": "wk2Rym9bfAqd",
        "outputId": "6c2d03b5-416f-436e-c5eb-7de52feaa0ff"
      },
      "execution_count": null,
      "outputs": [
        {
          "output_type": "stream",
          "name": "stderr",
          "text": [
            "/usr/local/lib/python3.7/dist-packages/sklearn/neighbors/_classification.py:198: DataConversionWarning: A column-vector y was passed when a 1d array was expected. Please change the shape of y to (n_samples,), for example using ravel().\n",
            "  return self._fit(X, y)\n"
          ]
        },
        {
          "output_type": "execute_result",
          "data": {
            "text/plain": [
              "KNeighborsClassifier(n_neighbors=2)"
            ]
          },
          "metadata": {},
          "execution_count": 355
        }
      ]
    },
    {
      "cell_type": "code",
      "source": [
        "print(\"Predicciones del conjunto de pruebas: {}\".format(knn_clf2.predict(X_test)))\n",
        "print(\"Precisión del modelo con el conjunto de pruebas: {:.2f}\".format(knn_clf2.score(X_test, y_test)))"
      ],
      "metadata": {
        "colab": {
          "base_uri": "https://localhost:8080/"
        },
        "id": "qCSWPY9BfNQV",
        "outputId": "97f7e9e1-38bb-4e23-8f85-a0142744c33c"
      },
      "execution_count": null,
      "outputs": [
        {
          "output_type": "stream",
          "name": "stdout",
          "text": [
            "Predicciones del conjunto de pruebas: [0 1 0 1 0 1 1 0 0 0 1 1 0 1 1 0 1 0 1 1 0 1 0 0 0 0 1 1 0 1 0 0 1 0 0 0 0\n",
            " 0 1 1 0 0 0 1 1 1 0 0 0 1 1 0 0 0 0 1 0 1 1 0 0 0 0 0 0 1 0 0 1 1 1 1 0 0\n",
            " 0 1 1]\n",
            "Precisión del modelo con el conjunto de pruebas: 0.86\n"
          ]
        }
      ]
    },
    {
      "cell_type": "markdown",
      "source": [
        "## Con $n=5$"
      ],
      "metadata": {
        "id": "nmOMRyeRu_kr"
      }
    },
    {
      "cell_type": "code",
      "source": [
        "knn_clf5=KNeighborsClassifier(n_neighbors=5)\n",
        "knn_clf5.fit(X_train, y_train)"
      ],
      "metadata": {
        "colab": {
          "base_uri": "https://localhost:8080/"
        },
        "id": "AUHDcg1mfG-e",
        "outputId": "9531ea43-248b-4d49-c66d-d1414663a57f"
      },
      "execution_count": null,
      "outputs": [
        {
          "output_type": "stream",
          "name": "stderr",
          "text": [
            "/usr/local/lib/python3.7/dist-packages/sklearn/neighbors/_classification.py:198: DataConversionWarning: A column-vector y was passed when a 1d array was expected. Please change the shape of y to (n_samples,), for example using ravel().\n",
            "  return self._fit(X, y)\n"
          ]
        },
        {
          "output_type": "execute_result",
          "data": {
            "text/plain": [
              "KNeighborsClassifier()"
            ]
          },
          "metadata": {},
          "execution_count": 357
        }
      ]
    },
    {
      "cell_type": "code",
      "source": [
        "print(\"Predicciones del conjunto de pruebas: {}\".format(knn_clf5.predict(X_test)))\n",
        "print(\"Precisión del modelo con el conjunto de pruebas: {:.2f}\".format(knn_clf5.score(X_test, y_test)))"
      ],
      "metadata": {
        "colab": {
          "base_uri": "https://localhost:8080/"
        },
        "id": "2-rJjNB9qfrl",
        "outputId": "237948b6-c887-4aa9-8ed3-150aa5883cb0"
      },
      "execution_count": null,
      "outputs": [
        {
          "output_type": "stream",
          "name": "stdout",
          "text": [
            "Predicciones del conjunto de pruebas: [0 1 0 1 0 1 1 0 0 0 1 1 0 1 1 0 1 0 1 1 0 1 1 0 0 1 1 1 0 1 0 0 1 0 0 0 0\n",
            " 0 1 1 0 0 1 1 1 1 0 0 0 1 1 1 0 0 1 1 0 1 1 0 0 0 0 0 0 1 0 0 1 1 1 1 1 0\n",
            " 0 1 1]\n",
            "Precisión del modelo con el conjunto de pruebas: 0.94\n"
          ]
        }
      ]
    },
    {
      "cell_type": "markdown",
      "source": [
        "## Con $n=273$, valor maximo"
      ],
      "metadata": {
        "id": "IEtj4o-mvDIz"
      }
    },
    {
      "cell_type": "code",
      "source": [
        "knn_clf273=KNeighborsClassifier(n_neighbors=273)\n",
        "knn_clf273.fit(X_train, y_train)"
      ],
      "metadata": {
        "colab": {
          "base_uri": "https://localhost:8080/"
        },
        "id": "pHX30DEPtOYM",
        "outputId": "1ec5a2b2-c0bd-44df-d6e9-35721ed6460b"
      },
      "execution_count": null,
      "outputs": [
        {
          "output_type": "stream",
          "name": "stderr",
          "text": [
            "/usr/local/lib/python3.7/dist-packages/sklearn/neighbors/_classification.py:198: DataConversionWarning: A column-vector y was passed when a 1d array was expected. Please change the shape of y to (n_samples,), for example using ravel().\n",
            "  return self._fit(X, y)\n"
          ]
        },
        {
          "output_type": "execute_result",
          "data": {
            "text/plain": [
              "KNeighborsClassifier(n_neighbors=273)"
            ]
          },
          "metadata": {},
          "execution_count": 359
        }
      ]
    },
    {
      "cell_type": "code",
      "source": [
        "print(\"Predicciones del conjunto de pruebas con: {}\".format(knn_clf273.predict(X_test)))\n",
        "print(\"Precisión del modelo con el conjunto de pruebas: {:.2f}\".format(knn_clf273.score(X_test, y_test)))"
      ],
      "metadata": {
        "colab": {
          "base_uri": "https://localhost:8080/"
        },
        "id": "fUOGPscntXTU",
        "outputId": "636c59cf-596c-471c-926c-056338980b1b"
      },
      "execution_count": null,
      "outputs": [
        {
          "output_type": "stream",
          "name": "stdout",
          "text": [
            "Predicciones del conjunto de pruebas con: [0 0 0 0 0 0 0 0 0 0 0 0 0 0 0 0 0 0 0 0 0 0 0 0 0 0 0 0 0 0 0 0 0 0 0 0 0\n",
            " 0 0 0 0 0 0 0 0 0 0 0 0 0 0 0 0 0 0 0 0 0 0 0 0 0 0 0 0 0 0 0 0 0 0 0 0 0\n",
            " 0 0 0]\n",
            "Precisión del modelo con el conjunto de pruebas: 0.48\n"
          ]
        }
      ]
    },
    {
      "cell_type": "markdown",
      "source": [
        "# Regresión k-nnn"
      ],
      "metadata": {
        "id": "e2XITGW0rR-W"
      }
    },
    {
      "cell_type": "code",
      "source": [
        "import numpy as np\n",
        "import pandas as pd\n",
        "import matplotlib.pyplot as plt\n",
        "import seaborn as sns"
      ],
      "metadata": {
        "id": "S0lArq3erbIE"
      },
      "execution_count": null,
      "outputs": []
    },
    {
      "cell_type": "code",
      "source": [
        "from sklearn.datasets import make_regression\n",
        "\n",
        "features, labels = make_regression(n_samples=500, n_features=1,n_informative=1,random_state=221, noise=35.5)"
      ],
      "metadata": {
        "id": "sfNsH6Npsdfk"
      },
      "execution_count": null,
      "outputs": []
    },
    {
      "cell_type": "code",
      "source": [
        "features_name=[\"Feature_01\"]\n",
        "features_df=pd.DataFrame(features,columns=features_name)\n",
        "features_df.head()"
      ],
      "metadata": {
        "colab": {
          "base_uri": "https://localhost:8080/",
          "height": 206
        },
        "id": "lWbkOkxcsiV6",
        "outputId": "6c165c88-c897-45a1-e7aa-39c75c81b740"
      },
      "execution_count": null,
      "outputs": [
        {
          "output_type": "execute_result",
          "data": {
            "text/plain": [
              "   Feature_01\n",
              "0   -0.936138\n",
              "1    1.227643\n",
              "2    0.317949\n",
              "3   -2.139582\n",
              "4   -1.708335"
            ],
            "text/html": [
              "\n",
              "  <div id=\"df-b548f2df-6ece-4e3a-8e9b-5dbb1c616f1e\">\n",
              "    <div class=\"colab-df-container\">\n",
              "      <div>\n",
              "<style scoped>\n",
              "    .dataframe tbody tr th:only-of-type {\n",
              "        vertical-align: middle;\n",
              "    }\n",
              "\n",
              "    .dataframe tbody tr th {\n",
              "        vertical-align: top;\n",
              "    }\n",
              "\n",
              "    .dataframe thead th {\n",
              "        text-align: right;\n",
              "    }\n",
              "</style>\n",
              "<table border=\"1\" class=\"dataframe\">\n",
              "  <thead>\n",
              "    <tr style=\"text-align: right;\">\n",
              "      <th></th>\n",
              "      <th>Feature_01</th>\n",
              "    </tr>\n",
              "  </thead>\n",
              "  <tbody>\n",
              "    <tr>\n",
              "      <th>0</th>\n",
              "      <td>-0.936138</td>\n",
              "    </tr>\n",
              "    <tr>\n",
              "      <th>1</th>\n",
              "      <td>1.227643</td>\n",
              "    </tr>\n",
              "    <tr>\n",
              "      <th>2</th>\n",
              "      <td>0.317949</td>\n",
              "    </tr>\n",
              "    <tr>\n",
              "      <th>3</th>\n",
              "      <td>-2.139582</td>\n",
              "    </tr>\n",
              "    <tr>\n",
              "      <th>4</th>\n",
              "      <td>-1.708335</td>\n",
              "    </tr>\n",
              "  </tbody>\n",
              "</table>\n",
              "</div>\n",
              "      <button class=\"colab-df-convert\" onclick=\"convertToInteractive('df-b548f2df-6ece-4e3a-8e9b-5dbb1c616f1e')\"\n",
              "              title=\"Convert this dataframe to an interactive table.\"\n",
              "              style=\"display:none;\">\n",
              "        \n",
              "  <svg xmlns=\"http://www.w3.org/2000/svg\" height=\"24px\"viewBox=\"0 0 24 24\"\n",
              "       width=\"24px\">\n",
              "    <path d=\"M0 0h24v24H0V0z\" fill=\"none\"/>\n",
              "    <path d=\"M18.56 5.44l.94 2.06.94-2.06 2.06-.94-2.06-.94-.94-2.06-.94 2.06-2.06.94zm-11 1L8.5 8.5l.94-2.06 2.06-.94-2.06-.94L8.5 2.5l-.94 2.06-2.06.94zm10 10l.94 2.06.94-2.06 2.06-.94-2.06-.94-.94-2.06-.94 2.06-2.06.94z\"/><path d=\"M17.41 7.96l-1.37-1.37c-.4-.4-.92-.59-1.43-.59-.52 0-1.04.2-1.43.59L10.3 9.45l-7.72 7.72c-.78.78-.78 2.05 0 2.83L4 21.41c.39.39.9.59 1.41.59.51 0 1.02-.2 1.41-.59l7.78-7.78 2.81-2.81c.8-.78.8-2.07 0-2.86zM5.41 20L4 18.59l7.72-7.72 1.47 1.35L5.41 20z\"/>\n",
              "  </svg>\n",
              "      </button>\n",
              "      \n",
              "  <style>\n",
              "    .colab-df-container {\n",
              "      display:flex;\n",
              "      flex-wrap:wrap;\n",
              "      gap: 12px;\n",
              "    }\n",
              "\n",
              "    .colab-df-convert {\n",
              "      background-color: #E8F0FE;\n",
              "      border: none;\n",
              "      border-radius: 50%;\n",
              "      cursor: pointer;\n",
              "      display: none;\n",
              "      fill: #1967D2;\n",
              "      height: 32px;\n",
              "      padding: 0 0 0 0;\n",
              "      width: 32px;\n",
              "    }\n",
              "\n",
              "    .colab-df-convert:hover {\n",
              "      background-color: #E2EBFA;\n",
              "      box-shadow: 0px 1px 2px rgba(60, 64, 67, 0.3), 0px 1px 3px 1px rgba(60, 64, 67, 0.15);\n",
              "      fill: #174EA6;\n",
              "    }\n",
              "\n",
              "    [theme=dark] .colab-df-convert {\n",
              "      background-color: #3B4455;\n",
              "      fill: #D2E3FC;\n",
              "    }\n",
              "\n",
              "    [theme=dark] .colab-df-convert:hover {\n",
              "      background-color: #434B5C;\n",
              "      box-shadow: 0px 1px 3px 1px rgba(0, 0, 0, 0.15);\n",
              "      filter: drop-shadow(0px 1px 2px rgba(0, 0, 0, 0.3));\n",
              "      fill: #FFFFFF;\n",
              "    }\n",
              "  </style>\n",
              "\n",
              "      <script>\n",
              "        const buttonEl =\n",
              "          document.querySelector('#df-b548f2df-6ece-4e3a-8e9b-5dbb1c616f1e button.colab-df-convert');\n",
              "        buttonEl.style.display =\n",
              "          google.colab.kernel.accessAllowed ? 'block' : 'none';\n",
              "\n",
              "        async function convertToInteractive(key) {\n",
              "          const element = document.querySelector('#df-b548f2df-6ece-4e3a-8e9b-5dbb1c616f1e');\n",
              "          const dataTable =\n",
              "            await google.colab.kernel.invokeFunction('convertToInteractive',\n",
              "                                                     [key], {});\n",
              "          if (!dataTable) return;\n",
              "\n",
              "          const docLinkHtml = 'Like what you see? Visit the ' +\n",
              "            '<a target=\"_blank\" href=https://colab.research.google.com/notebooks/data_table.ipynb>data table notebook</a>'\n",
              "            + ' to learn more about interactive tables.';\n",
              "          element.innerHTML = '';\n",
              "          dataTable['output_type'] = 'display_data';\n",
              "          await google.colab.output.renderOutput(dataTable, element);\n",
              "          const docLink = document.createElement('div');\n",
              "          docLink.innerHTML = docLinkHtml;\n",
              "          element.appendChild(docLink);\n",
              "        }\n",
              "      </script>\n",
              "    </div>\n",
              "  </div>\n",
              "  "
            ]
          },
          "metadata": {},
          "execution_count": 363
        }
      ]
    },
    {
      "cell_type": "code",
      "source": [
        "labels_name=['Output']\n",
        "labels_df= pd.DataFrame(labels,columns=labels_name)\n",
        "labels_df.head()"
      ],
      "metadata": {
        "colab": {
          "base_uri": "https://localhost:8080/",
          "height": 206
        },
        "id": "bSm3gmjEsno8",
        "outputId": "65ae067b-461e-4cb4-95e4-7e097e41aa40"
      },
      "execution_count": null,
      "outputs": [
        {
          "output_type": "execute_result",
          "data": {
            "text/plain": [
              "       Output\n",
              "0  -76.967823\n",
              "1  152.814461\n",
              "2   41.112093\n",
              "3 -169.197009\n",
              "4 -166.910254"
            ],
            "text/html": [
              "\n",
              "  <div id=\"df-5736cf96-924a-44a2-b19b-a262e45fe4b8\">\n",
              "    <div class=\"colab-df-container\">\n",
              "      <div>\n",
              "<style scoped>\n",
              "    .dataframe tbody tr th:only-of-type {\n",
              "        vertical-align: middle;\n",
              "    }\n",
              "\n",
              "    .dataframe tbody tr th {\n",
              "        vertical-align: top;\n",
              "    }\n",
              "\n",
              "    .dataframe thead th {\n",
              "        text-align: right;\n",
              "    }\n",
              "</style>\n",
              "<table border=\"1\" class=\"dataframe\">\n",
              "  <thead>\n",
              "    <tr style=\"text-align: right;\">\n",
              "      <th></th>\n",
              "      <th>Output</th>\n",
              "    </tr>\n",
              "  </thead>\n",
              "  <tbody>\n",
              "    <tr>\n",
              "      <th>0</th>\n",
              "      <td>-76.967823</td>\n",
              "    </tr>\n",
              "    <tr>\n",
              "      <th>1</th>\n",
              "      <td>152.814461</td>\n",
              "    </tr>\n",
              "    <tr>\n",
              "      <th>2</th>\n",
              "      <td>41.112093</td>\n",
              "    </tr>\n",
              "    <tr>\n",
              "      <th>3</th>\n",
              "      <td>-169.197009</td>\n",
              "    </tr>\n",
              "    <tr>\n",
              "      <th>4</th>\n",
              "      <td>-166.910254</td>\n",
              "    </tr>\n",
              "  </tbody>\n",
              "</table>\n",
              "</div>\n",
              "      <button class=\"colab-df-convert\" onclick=\"convertToInteractive('df-5736cf96-924a-44a2-b19b-a262e45fe4b8')\"\n",
              "              title=\"Convert this dataframe to an interactive table.\"\n",
              "              style=\"display:none;\">\n",
              "        \n",
              "  <svg xmlns=\"http://www.w3.org/2000/svg\" height=\"24px\"viewBox=\"0 0 24 24\"\n",
              "       width=\"24px\">\n",
              "    <path d=\"M0 0h24v24H0V0z\" fill=\"none\"/>\n",
              "    <path d=\"M18.56 5.44l.94 2.06.94-2.06 2.06-.94-2.06-.94-.94-2.06-.94 2.06-2.06.94zm-11 1L8.5 8.5l.94-2.06 2.06-.94-2.06-.94L8.5 2.5l-.94 2.06-2.06.94zm10 10l.94 2.06.94-2.06 2.06-.94-2.06-.94-.94-2.06-.94 2.06-2.06.94z\"/><path d=\"M17.41 7.96l-1.37-1.37c-.4-.4-.92-.59-1.43-.59-.52 0-1.04.2-1.43.59L10.3 9.45l-7.72 7.72c-.78.78-.78 2.05 0 2.83L4 21.41c.39.39.9.59 1.41.59.51 0 1.02-.2 1.41-.59l7.78-7.78 2.81-2.81c.8-.78.8-2.07 0-2.86zM5.41 20L4 18.59l7.72-7.72 1.47 1.35L5.41 20z\"/>\n",
              "  </svg>\n",
              "      </button>\n",
              "      \n",
              "  <style>\n",
              "    .colab-df-container {\n",
              "      display:flex;\n",
              "      flex-wrap:wrap;\n",
              "      gap: 12px;\n",
              "    }\n",
              "\n",
              "    .colab-df-convert {\n",
              "      background-color: #E8F0FE;\n",
              "      border: none;\n",
              "      border-radius: 50%;\n",
              "      cursor: pointer;\n",
              "      display: none;\n",
              "      fill: #1967D2;\n",
              "      height: 32px;\n",
              "      padding: 0 0 0 0;\n",
              "      width: 32px;\n",
              "    }\n",
              "\n",
              "    .colab-df-convert:hover {\n",
              "      background-color: #E2EBFA;\n",
              "      box-shadow: 0px 1px 2px rgba(60, 64, 67, 0.3), 0px 1px 3px 1px rgba(60, 64, 67, 0.15);\n",
              "      fill: #174EA6;\n",
              "    }\n",
              "\n",
              "    [theme=dark] .colab-df-convert {\n",
              "      background-color: #3B4455;\n",
              "      fill: #D2E3FC;\n",
              "    }\n",
              "\n",
              "    [theme=dark] .colab-df-convert:hover {\n",
              "      background-color: #434B5C;\n",
              "      box-shadow: 0px 1px 3px 1px rgba(0, 0, 0, 0.15);\n",
              "      filter: drop-shadow(0px 1px 2px rgba(0, 0, 0, 0.3));\n",
              "      fill: #FFFFFF;\n",
              "    }\n",
              "  </style>\n",
              "\n",
              "      <script>\n",
              "        const buttonEl =\n",
              "          document.querySelector('#df-5736cf96-924a-44a2-b19b-a262e45fe4b8 button.colab-df-convert');\n",
              "        buttonEl.style.display =\n",
              "          google.colab.kernel.accessAllowed ? 'block' : 'none';\n",
              "\n",
              "        async function convertToInteractive(key) {\n",
              "          const element = document.querySelector('#df-5736cf96-924a-44a2-b19b-a262e45fe4b8');\n",
              "          const dataTable =\n",
              "            await google.colab.kernel.invokeFunction('convertToInteractive',\n",
              "                                                     [key], {});\n",
              "          if (!dataTable) return;\n",
              "\n",
              "          const docLinkHtml = 'Like what you see? Visit the ' +\n",
              "            '<a target=\"_blank\" href=https://colab.research.google.com/notebooks/data_table.ipynb>data table notebook</a>'\n",
              "            + ' to learn more about interactive tables.';\n",
              "          element.innerHTML = '';\n",
              "          dataTable['output_type'] = 'display_data';\n",
              "          await google.colab.output.renderOutput(dataTable, element);\n",
              "          const docLink = document.createElement('div');\n",
              "          docLink.innerHTML = docLinkHtml;\n",
              "          element.appendChild(docLink);\n",
              "        }\n",
              "      </script>\n",
              "    </div>\n",
              "  </div>\n",
              "  "
            ]
          },
          "metadata": {},
          "execution_count": 364
        }
      ]
    },
    {
      "cell_type": "code",
      "source": [
        "dataset=pd.concat([features_df,labels_df],axis=1, join='inner',sort=False)\n",
        "dataset.head()"
      ],
      "metadata": {
        "colab": {
          "base_uri": "https://localhost:8080/",
          "height": 206
        },
        "id": "_SMjk7H-ssXx",
        "outputId": "e35641fe-8e3b-4dbc-e467-63e5c84204b9"
      },
      "execution_count": null,
      "outputs": [
        {
          "output_type": "execute_result",
          "data": {
            "text/plain": [
              "   Feature_01      Output\n",
              "0   -0.936138  -76.967823\n",
              "1    1.227643  152.814461\n",
              "2    0.317949   41.112093\n",
              "3   -2.139582 -169.197009\n",
              "4   -1.708335 -166.910254"
            ],
            "text/html": [
              "\n",
              "  <div id=\"df-8d6f5136-bcd2-4282-be45-5950ed8cdc25\">\n",
              "    <div class=\"colab-df-container\">\n",
              "      <div>\n",
              "<style scoped>\n",
              "    .dataframe tbody tr th:only-of-type {\n",
              "        vertical-align: middle;\n",
              "    }\n",
              "\n",
              "    .dataframe tbody tr th {\n",
              "        vertical-align: top;\n",
              "    }\n",
              "\n",
              "    .dataframe thead th {\n",
              "        text-align: right;\n",
              "    }\n",
              "</style>\n",
              "<table border=\"1\" class=\"dataframe\">\n",
              "  <thead>\n",
              "    <tr style=\"text-align: right;\">\n",
              "      <th></th>\n",
              "      <th>Feature_01</th>\n",
              "      <th>Output</th>\n",
              "    </tr>\n",
              "  </thead>\n",
              "  <tbody>\n",
              "    <tr>\n",
              "      <th>0</th>\n",
              "      <td>-0.936138</td>\n",
              "      <td>-76.967823</td>\n",
              "    </tr>\n",
              "    <tr>\n",
              "      <th>1</th>\n",
              "      <td>1.227643</td>\n",
              "      <td>152.814461</td>\n",
              "    </tr>\n",
              "    <tr>\n",
              "      <th>2</th>\n",
              "      <td>0.317949</td>\n",
              "      <td>41.112093</td>\n",
              "    </tr>\n",
              "    <tr>\n",
              "      <th>3</th>\n",
              "      <td>-2.139582</td>\n",
              "      <td>-169.197009</td>\n",
              "    </tr>\n",
              "    <tr>\n",
              "      <th>4</th>\n",
              "      <td>-1.708335</td>\n",
              "      <td>-166.910254</td>\n",
              "    </tr>\n",
              "  </tbody>\n",
              "</table>\n",
              "</div>\n",
              "      <button class=\"colab-df-convert\" onclick=\"convertToInteractive('df-8d6f5136-bcd2-4282-be45-5950ed8cdc25')\"\n",
              "              title=\"Convert this dataframe to an interactive table.\"\n",
              "              style=\"display:none;\">\n",
              "        \n",
              "  <svg xmlns=\"http://www.w3.org/2000/svg\" height=\"24px\"viewBox=\"0 0 24 24\"\n",
              "       width=\"24px\">\n",
              "    <path d=\"M0 0h24v24H0V0z\" fill=\"none\"/>\n",
              "    <path d=\"M18.56 5.44l.94 2.06.94-2.06 2.06-.94-2.06-.94-.94-2.06-.94 2.06-2.06.94zm-11 1L8.5 8.5l.94-2.06 2.06-.94-2.06-.94L8.5 2.5l-.94 2.06-2.06.94zm10 10l.94 2.06.94-2.06 2.06-.94-2.06-.94-.94-2.06-.94 2.06-2.06.94z\"/><path d=\"M17.41 7.96l-1.37-1.37c-.4-.4-.92-.59-1.43-.59-.52 0-1.04.2-1.43.59L10.3 9.45l-7.72 7.72c-.78.78-.78 2.05 0 2.83L4 21.41c.39.39.9.59 1.41.59.51 0 1.02-.2 1.41-.59l7.78-7.78 2.81-2.81c.8-.78.8-2.07 0-2.86zM5.41 20L4 18.59l7.72-7.72 1.47 1.35L5.41 20z\"/>\n",
              "  </svg>\n",
              "      </button>\n",
              "      \n",
              "  <style>\n",
              "    .colab-df-container {\n",
              "      display:flex;\n",
              "      flex-wrap:wrap;\n",
              "      gap: 12px;\n",
              "    }\n",
              "\n",
              "    .colab-df-convert {\n",
              "      background-color: #E8F0FE;\n",
              "      border: none;\n",
              "      border-radius: 50%;\n",
              "      cursor: pointer;\n",
              "      display: none;\n",
              "      fill: #1967D2;\n",
              "      height: 32px;\n",
              "      padding: 0 0 0 0;\n",
              "      width: 32px;\n",
              "    }\n",
              "\n",
              "    .colab-df-convert:hover {\n",
              "      background-color: #E2EBFA;\n",
              "      box-shadow: 0px 1px 2px rgba(60, 64, 67, 0.3), 0px 1px 3px 1px rgba(60, 64, 67, 0.15);\n",
              "      fill: #174EA6;\n",
              "    }\n",
              "\n",
              "    [theme=dark] .colab-df-convert {\n",
              "      background-color: #3B4455;\n",
              "      fill: #D2E3FC;\n",
              "    }\n",
              "\n",
              "    [theme=dark] .colab-df-convert:hover {\n",
              "      background-color: #434B5C;\n",
              "      box-shadow: 0px 1px 3px 1px rgba(0, 0, 0, 0.15);\n",
              "      filter: drop-shadow(0px 1px 2px rgba(0, 0, 0, 0.3));\n",
              "      fill: #FFFFFF;\n",
              "    }\n",
              "  </style>\n",
              "\n",
              "      <script>\n",
              "        const buttonEl =\n",
              "          document.querySelector('#df-8d6f5136-bcd2-4282-be45-5950ed8cdc25 button.colab-df-convert');\n",
              "        buttonEl.style.display =\n",
              "          google.colab.kernel.accessAllowed ? 'block' : 'none';\n",
              "\n",
              "        async function convertToInteractive(key) {\n",
              "          const element = document.querySelector('#df-8d6f5136-bcd2-4282-be45-5950ed8cdc25');\n",
              "          const dataTable =\n",
              "            await google.colab.kernel.invokeFunction('convertToInteractive',\n",
              "                                                     [key], {});\n",
              "          if (!dataTable) return;\n",
              "\n",
              "          const docLinkHtml = 'Like what you see? Visit the ' +\n",
              "            '<a target=\"_blank\" href=https://colab.research.google.com/notebooks/data_table.ipynb>data table notebook</a>'\n",
              "            + ' to learn more about interactive tables.';\n",
              "          element.innerHTML = '';\n",
              "          dataTable['output_type'] = 'display_data';\n",
              "          await google.colab.output.renderOutput(dataTable, element);\n",
              "          const docLink = document.createElement('div');\n",
              "          docLink.innerHTML = docLinkHtml;\n",
              "          element.appendChild(docLink);\n",
              "        }\n",
              "      </script>\n",
              "    </div>\n",
              "  </div>\n",
              "  "
            ]
          },
          "metadata": {},
          "execution_count": 365
        }
      ]
    },
    {
      "cell_type": "code",
      "source": [
        "sns.lmplot(x='Feature_01',y='Output',data=dataset, fit_reg=False)"
      ],
      "metadata": {
        "colab": {
          "base_uri": "https://localhost:8080/",
          "height": 387
        },
        "id": "0WpHFKVmsuKq",
        "outputId": "e6e05503-2599-4724-acd9-515a93df79bb"
      },
      "execution_count": null,
      "outputs": [
        {
          "output_type": "execute_result",
          "data": {
            "text/plain": [
              "<seaborn.axisgrid.FacetGrid at 0x7f4667390d90>"
            ]
          },
          "metadata": {},
          "execution_count": 366
        },
        {
          "output_type": "display_data",
          "data": {
            "text/plain": [
              "<Figure size 360x360 with 1 Axes>"
            ],
            "image/png": "[encoded data removed]"
          },
          "metadata": {
            "needs_background": "light"
          }
        }
      ]
    },
    {
      "cell_type": "code",
      "source": [
        "from sklearn.model_selection import train_test_split\n",
        "X_train, X_test, y_train, y_test = train_test_split(features_df,labels_df,test_size=0.22,random_state=221)"
      ],
      "metadata": {
        "id": "oMDzXAYLsxnT"
      },
      "execution_count": null,
      "outputs": []
    },
    {
      "cell_type": "code",
      "source": [
        "from sklearn.neighbors import KNeighborsRegressor"
      ],
      "metadata": {
        "id": "s0mvhKR3tsxM"
      },
      "execution_count": null,
      "outputs": []
    },
    {
      "cell_type": "markdown",
      "source": [
        "## Con $n=2$"
      ],
      "metadata": {
        "id": "0bvysmucuhsk"
      }
    },
    {
      "cell_type": "code",
      "source": [
        "knn_reg2=KNeighborsRegressor(n_neighbors=2)\n",
        "knn_reg2.fit(X_train, y_train)"
      ],
      "metadata": {
        "colab": {
          "base_uri": "https://localhost:8080/"
        },
        "id": "c6ddkRiQueUW",
        "outputId": "27c277a8-c965-4f02-8e46-98be5f2e0841"
      },
      "execution_count": null,
      "outputs": [
        {
          "output_type": "execute_result",
          "data": {
            "text/plain": [
              "KNeighborsRegressor(n_neighbors=2)"
            ]
          },
          "metadata": {},
          "execution_count": 369
        }
      ]
    },
    {
      "cell_type": "code",
      "source": [
        "print(\"Predicciones del conjunto de pruebas:\\n{}\".format(knn_reg2.predict(X_test)))\n",
        "#Darle un puntaje a este data set con este modelo\n",
        "print(\"Precisión del modelo con el conjunto de pruebas R^2: {:.2f}\".format(knn_reg2.score(X_test, y_test)))"
      ],
      "metadata": {
        "colab": {
          "base_uri": "https://localhost:8080/"
        },
        "id": "35muKpgOvIZb",
        "outputId": "c285cfa4-6b98-4b3e-d61d-883f7cd414de"
      },
      "execution_count": null,
      "outputs": [
        {
          "output_type": "stream",
          "name": "stdout",
          "text": [
            "Predicciones del conjunto de pruebas:\n",
            "[[ 293.08152483]\n",
            " [  49.22775991]\n",
            " [ 120.07340833]\n",
            " [ -38.40993848]\n",
            " [   7.13818671]\n",
            " [-151.26939644]\n",
            " [ -19.10748394]\n",
            " [-216.90785265]\n",
            " [-171.90569853]\n",
            " [  20.05013723]\n",
            " [-190.86265926]\n",
            " [  54.53826921]\n",
            " [  12.08288612]\n",
            " [ 139.89593174]\n",
            " [ -17.74779022]\n",
            " [  40.43222126]\n",
            " [ -67.50689562]\n",
            " [ 133.58030891]\n",
            " [ 127.73642312]\n",
            " [  71.1923276 ]\n",
            " [  34.00726778]\n",
            " [   6.25619691]\n",
            " [  10.37627876]\n",
            " [ -13.31772336]\n",
            " [ -37.87193484]\n",
            " [ -33.11651234]\n",
            " [-102.77485059]\n",
            " [-176.1399515 ]\n",
            " [  92.85900477]\n",
            " [ -25.18593654]\n",
            " [ -18.74657524]\n",
            " [  69.55826512]\n",
            " [ -58.55465614]\n",
            " [ -55.17055148]\n",
            " [ -13.43880975]\n",
            " [-190.86265926]\n",
            " [  90.02534761]\n",
            " [  78.42366183]\n",
            " [-164.58968974]\n",
            " [  90.02534761]\n",
            " [  -7.14858197]\n",
            " [ -13.31772336]\n",
            " [  88.17414787]\n",
            " [ -45.09981276]\n",
            " [  80.89259002]\n",
            " [ 133.19982834]\n",
            " [ 114.07486227]\n",
            " [  44.57279943]\n",
            " [  34.72717662]\n",
            " [  37.22150677]\n",
            " [  39.74955358]\n",
            " [-154.33027047]\n",
            " [-106.63750002]\n",
            " [  51.21751428]\n",
            " [  43.92142621]\n",
            " [  77.55214018]\n",
            " [  21.889582  ]\n",
            " [  51.48341574]\n",
            " [  93.94948677]\n",
            " [ -82.81321918]\n",
            " [-151.26939644]\n",
            " [   0.3607043 ]\n",
            " [ 127.73642312]\n",
            " [ 197.67886556]\n",
            " [ -19.75039362]\n",
            " [   6.25619691]\n",
            " [ 121.26294576]\n",
            " [ -37.87193484]\n",
            " [  36.56181697]\n",
            " [ -76.58032095]\n",
            " [  69.16420447]\n",
            " [  18.87645113]\n",
            " [  71.50251998]\n",
            " [  52.46584423]\n",
            " [  95.83560388]\n",
            " [ -88.27848652]\n",
            " [  28.42286643]\n",
            " [ -23.91620909]\n",
            " [ -43.93193291]\n",
            " [ -95.9825977 ]\n",
            " [-106.77468799]\n",
            " [ -64.43773046]\n",
            " [  44.57279943]\n",
            " [ -63.68810967]\n",
            " [ -32.70714923]\n",
            " [  64.75813491]\n",
            " [ 128.83334999]\n",
            " [ -52.63506131]\n",
            " [-159.71091615]\n",
            " [ -95.50139573]\n",
            " [-100.36225001]\n",
            " [ 112.33004564]\n",
            " [  -1.06300632]\n",
            " [  -1.06300632]\n",
            " [ 113.50981164]\n",
            " [ -63.20568036]\n",
            " [ 158.6689805 ]\n",
            " [ -15.81364734]\n",
            " [ 161.43862738]\n",
            " [ -73.55049924]\n",
            " [-170.95129931]\n",
            " [-190.86265926]\n",
            " [ -84.33929656]\n",
            " [  99.91734865]\n",
            " [ -89.13469098]\n",
            " [ -45.09981276]\n",
            " [  73.65678437]\n",
            " [  58.33422285]\n",
            " [ -19.06461471]\n",
            " [  12.08288612]]\n",
            "Precisión del modelo con el conjunto de pruebas R^2: 0.83\n"
          ]
        }
      ]
    },
    {
      "cell_type": "markdown",
      "source": [
        "## Con $n=5$"
      ],
      "metadata": {
        "id": "zqBD0m4Fvbxl"
      }
    },
    {
      "cell_type": "code",
      "source": [
        "knn_reg5=KNeighborsRegressor(n_neighbors=5)\n",
        "knn_reg5.fit(X_train, y_train)"
      ],
      "metadata": {
        "colab": {
          "base_uri": "https://localhost:8080/"
        },
        "id": "Da5j9zX_vfk7",
        "outputId": "870c2005-87cd-45c0-9d70-d6ce89cc93ad"
      },
      "execution_count": null,
      "outputs": [
        {
          "output_type": "execute_result",
          "data": {
            "text/plain": [
              "KNeighborsRegressor()"
            ]
          },
          "metadata": {},
          "execution_count": 371
        }
      ]
    },
    {
      "cell_type": "code",
      "source": [
        "print(\"Predicciones del conjunto de pruebas:\\n{}\".format(knn_reg5.predict(X_test)))\n",
        "#Darle un puntaje a este data set con este modelo\n",
        "print(\"Precisión del modelo con el conjunto de pruebas R^2: {:.2f}\".format(knn_reg5.score(X_test, y_test)))"
      ],
      "metadata": {
        "colab": {
          "base_uri": "https://localhost:8080/"
        },
        "id": "yyzCpTgmvf09",
        "outputId": "96bf36c7-cc7b-409d-8125-ae73223b4154"
      },
      "execution_count": null,
      "outputs": [
        {
          "output_type": "stream",
          "name": "stdout",
          "text": [
            "Predicciones del conjunto de pruebas:\n",
            "[[ 273.7683079 ]\n",
            " [  10.06144366]\n",
            " [  96.59072791]\n",
            " [ -15.07428269]\n",
            " [ -30.22664016]\n",
            " [-151.97041454]\n",
            " [ -30.71683945]\n",
            " [-191.17953379]\n",
            " [-172.79691246]\n",
            " [   4.75721723]\n",
            " [-183.55460602]\n",
            " [  40.1514986 ]\n",
            " [  16.6915495 ]\n",
            " [ 143.28491987]\n",
            " [ -27.68143932]\n",
            " [  37.1294534 ]\n",
            " [ -77.61407795]\n",
            " [ 125.63907071]\n",
            " [  89.27955135]\n",
            " [  48.35023575]\n",
            " [  24.7502276 ]\n",
            " [  15.89106458]\n",
            " [  37.07318655]\n",
            " [  -9.16182052]\n",
            " [ -44.76502082]\n",
            " [ -95.1573624 ]\n",
            " [ -80.29133058]\n",
            " [-178.40761503]\n",
            " [  69.43065006]\n",
            " [ -29.64211432]\n",
            " [  -8.38018009]\n",
            " [  63.4892296 ]\n",
            " [ -76.22772581]\n",
            " [ -48.82286352]\n",
            " [  -1.07396302]\n",
            " [-183.55460602]\n",
            " [  70.68318247]\n",
            " [  87.77376569]\n",
            " [-139.86175395]\n",
            " [  70.68318247]\n",
            " [   6.42046381]\n",
            " [  -9.16182052]\n",
            " [  79.69216372]\n",
            " [ -66.14426106]\n",
            " [  31.56579478]\n",
            " [ 133.34138925]\n",
            " [  96.72110064]\n",
            " [  20.74309925]\n",
            " [  31.56579478]\n",
            " [  34.72564318]\n",
            " [  42.79575298]\n",
            " [-170.70784473]\n",
            " [ -96.44751296]\n",
            " [  27.50396144]\n",
            " [  37.07318655]\n",
            " [  44.99294481]\n",
            " [  36.51802644]\n",
            " [  69.43065006]\n",
            " [  93.29683223]\n",
            " [ -96.8502981 ]\n",
            " [-153.92757289]\n",
            " [  25.46130217]\n",
            " [  89.27955135]\n",
            " [ 190.12816383]\n",
            " [ -37.6981031 ]\n",
            " [  15.89106458]\n",
            " [ 137.74074659]\n",
            " [ -30.09756095]\n",
            " [  21.68396547]\n",
            " [ -72.6444948 ]\n",
            " [  80.91416082]\n",
            " [  23.21343899]\n",
            " [  79.69216372]\n",
            " [  26.7319157 ]\n",
            " [ 110.03632773]\n",
            " [ -79.71164946]\n",
            " [  25.46702155]\n",
            " [   0.6955595 ]\n",
            " [ -51.76012676]\n",
            " [-113.99265465]\n",
            " [ -72.40551037]\n",
            " [ -48.5298725 ]\n",
            " [  31.80120851]\n",
            " [ -22.82562145]\n",
            " [ -27.68143932]\n",
            " [  77.55261856]\n",
            " [  95.32535004]\n",
            " [ -31.23283779]\n",
            " [-178.51881466]\n",
            " [ -63.27420137]\n",
            " [ -92.43766545]\n",
            " [ 122.33392121]\n",
            " [  15.89106458]\n",
            " [  15.89106458]\n",
            " [ 117.74719036]\n",
            " [ -59.36868964]\n",
            " [ 190.12816383]\n",
            " [   6.90055068]\n",
            " [ 127.56980984]\n",
            " [ -56.71472744]\n",
            " [-170.70784473]\n",
            " [-183.55460602]\n",
            " [ -91.5314552 ]\n",
            " [  97.0607255 ]\n",
            " [ -61.08230162]\n",
            " [ -66.14426106]\n",
            " [  49.62572104]\n",
            " [ 101.27842833]\n",
            " [ -44.80865762]\n",
            " [  19.04974655]]\n",
            "Precisión del modelo con el conjunto de pruebas R^2: 0.86\n"
          ]
        }
      ]
    },
    {
      "cell_type": "markdown",
      "source": [
        "## Con $n=273$, valor maximos"
      ],
      "metadata": {
        "id": "ALWPZxpXvoZj"
      }
    },
    {
      "cell_type": "code",
      "source": [
        "knn_reg273=KNeighborsRegressor(n_neighbors=273)\n",
        "knn_reg273.fit(X_train, y_train)"
      ],
      "metadata": {
        "colab": {
          "base_uri": "https://localhost:8080/"
        },
        "id": "5ELEdxOCvshz",
        "outputId": "31a74bcf-5c21-45f0-cc0c-32bae3bc3d5c"
      },
      "execution_count": null,
      "outputs": [
        {
          "output_type": "execute_result",
          "data": {
            "text/plain": [
              "KNeighborsRegressor(n_neighbors=273)"
            ]
          },
          "metadata": {},
          "execution_count": 373
        }
      ]
    },
    {
      "cell_type": "code",
      "source": [
        "print(\"Predicciones del conjunto de pruebas:\\n{}\".format(knn_reg273.predict(X_test)))\n",
        "#Darle un puntaje a este data set con este modelo\n",
        "print(\"Precisión del modelo con el conjunto de pruebas R^2: {:.2f}\".format(knn_reg273.score(X_test, y_test)))"
      ],
      "metadata": {
        "colab": {
          "base_uri": "https://localhost:8080/"
        },
        "id": "8wwuHhX2vwTj",
        "outputId": "468bd410-7727-4c1a-b825-48479d46efe7"
      },
      "execution_count": null,
      "outputs": [
        {
          "output_type": "stream",
          "name": "stdout",
          "text": [
            "Predicciones del conjunto de pruebas:\n",
            "[[ 51.98502084]\n",
            " [  4.58323499]\n",
            " [ 44.08635751]\n",
            " [  9.10308007]\n",
            " [-12.02641783]\n",
            " [-36.30764705]\n",
            " [ -2.9745017 ]\n",
            " [-36.30764705]\n",
            " [-36.30764705]\n",
            " [ 21.78742647]\n",
            " [-36.30764705]\n",
            " [ 35.03131512]\n",
            " [ 15.13765837]\n",
            " [ 49.55986669]\n",
            " [ -0.67693662]\n",
            " [ 38.06013495]\n",
            " [-36.30764705]\n",
            " [ 51.98502084]\n",
            " [ 45.28194643]\n",
            " [ 29.71630008]\n",
            " [ 12.01707238]\n",
            " [ 17.65142872]\n",
            " [ 27.77200767]\n",
            " [  5.27501674]\n",
            " [-14.42605416]\n",
            " [-36.30764705]\n",
            " [-33.19466041]\n",
            " [-36.30764705]\n",
            " [ 42.07728134]\n",
            " [-29.55133203]\n",
            " [  2.08445254]\n",
            " [ 38.95985949]\n",
            " [-36.30764705]\n",
            " [-21.32690423]\n",
            " [ -8.37267591]\n",
            " [-36.30764705]\n",
            " [ 42.07728134]\n",
            " [ 48.45252165]\n",
            " [-36.30764705]\n",
            " [ 42.07728134]\n",
            " [ 20.93243343]\n",
            " [  5.27501674]\n",
            " [ 48.45252165]\n",
            " [-27.02371276]\n",
            " [  7.43176112]\n",
            " [ 51.98502084]\n",
            " [ 48.45252165]\n",
            " [ 31.48640627]\n",
            " [  7.43176112]\n",
            " [ 30.73524343]\n",
            " [ 36.30224717]\n",
            " [-36.30764705]\n",
            " [-36.30764705]\n",
            " [ 28.48086954]\n",
            " [ 27.77200767]\n",
            " [ 30.73524343]\n",
            " [ 34.60016019]\n",
            " [ 42.98002371]\n",
            " [ 48.45252165]\n",
            " [-36.30764705]\n",
            " [-36.30764705]\n",
            " [ 12.77258352]\n",
            " [ 45.28194643]\n",
            " [ 51.98502084]\n",
            " [ -2.9745017 ]\n",
            " [ 17.65142872]\n",
            " [ 51.98502084]\n",
            " [-14.42605416]\n",
            " [ 27.77200767]\n",
            " [-32.346936  ]\n",
            " [ 44.08635751]\n",
            " [ 13.17803945]\n",
            " [ 48.45252165]\n",
            " [  3.72070148]\n",
            " [ 51.98502084]\n",
            " [-36.30764705]\n",
            " [ 27.77200767]\n",
            " [  5.27501674]\n",
            " [-20.61394839]\n",
            " [-36.30764705]\n",
            " [-27.02371276]\n",
            " [-10.56991979]\n",
            " [ 31.48640627]\n",
            " [ -1.40256245]\n",
            " [ -1.40256245]\n",
            " [ 42.98002371]\n",
            " [ 46.19488554]\n",
            " [-17.15886812]\n",
            " [-36.30764705]\n",
            " [-14.42605416]\n",
            " [-34.39980145]\n",
            " [ 51.98502084]\n",
            " [ 18.56033641]\n",
            " [ 18.56033641]\n",
            " [ 51.98502084]\n",
            " [-31.52572715]\n",
            " [ 51.98502084]\n",
            " [ 21.78742647]\n",
            " [ 51.98502084]\n",
            " [-35.2938841 ]\n",
            " [-36.30764705]\n",
            " [-36.30764705]\n",
            " [-36.30764705]\n",
            " [ 47.18376455]\n",
            " [-33.19466041]\n",
            " [-27.02371276]\n",
            " [ 36.30224717]\n",
            " [ 45.28194643]\n",
            " [-19.8633608 ]\n",
            " [ 16.14469702]]\n",
            "Precisión del modelo con el conjunto de pruebas R^2: 0.43\n"
          ]
        }
      ]
    }
  ]
}