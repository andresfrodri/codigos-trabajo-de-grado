{
  "nbformat": 4,
  "nbformat_minor": 0,
  "metadata": {
    "colab": {
      "name": "Ejemplo-algoritmos-geneticos.ipynb",
      "provenance": []
    },
    "kernelspec": {
      "name": "python3",
      "display_name": "Python 3"
    },
    "language_info": {
      "name": "python"
    }
  },
  "cells": [
    {
      "cell_type": "markdown",
      "source": [
        "Importamos las librerias que necesitamos"
      ],
      "metadata": {
        "id": "hBR1rsXkRkbO"
      }
    },
    {
      "cell_type": "code",
      "source": [
        "import random\n",
        "import datetime\n"
      ],
      "metadata": {
        "id": "Ah86Lg7pl9F1"
      },
      "execution_count": null,
      "outputs": []
    },
    {
      "cell_type": "markdown",
      "source": [
        "Definimos las funciones que vamos a utilizar para desarrollar el algortimo genético "
      ],
      "metadata": {
        "id": "olbs9w4xRyeq"
      }
    },
    {
      "cell_type": "code",
      "source": [
        "#Definimos la función de aptitud\n",
        "def get_fitness(guess):\n",
        "    return sum(1 for expected, actual in zip(target, guess)\n",
        "               if expected == actual)\n",
        "\n",
        "#Definimos la función que nos va mostrar como va la mejor población y en cual generación está\n",
        "def display(guess):\n",
        "    timeDiff = datetime.datetime.now() - startTime\n",
        "    fitness = get_fitness(guess)\n",
        "    print(\"{0}\\t{1}\\t{2}\".format(guess, fitness, str(timeDiff)))\n",
        "\n",
        "#Definimos una función para crear padres en función de su aptitud\n",
        "\n",
        "def generate_parent(length):\n",
        "    genes = []\n",
        "    while len(genes) < length:\n",
        "        sampleSize = min(length - len(genes), len(geneSet))\n",
        "        genes.extend(random.sample(geneSet, sampleSize))\n",
        "    return ''.join(genes)\n",
        "\n",
        "#Definimos una función que permite crear mutaciones\n",
        "def mutate(parent):\n",
        "    index = random.randrange(0, len(parent))\n",
        "    childGenes = list(parent)\n",
        "    newGene, alternate = random.sample(geneSet, 2)\n",
        "    childGenes[index] = alternate \\\n",
        "        if newGene == childGenes[index] \\\n",
        "        else newGene\n",
        "    return ''.join(childGenes)\n"
      ],
      "metadata": {
        "id": "DbLNg2kyRmEw"
      },
      "execution_count": null,
      "outputs": []
    },
    {
      "cell_type": "code",
      "source": [
        "random.seed()\n",
        "#Definimos la forma de los genes \n",
        "geneSet = \" abcdefghijklmnopqrstuvwxyzABCDEFGHIJKLMNOPQRSTUVWXYZ¡!'.,()¿?áéíóú1234567890\\n\"\n",
        "#Definimos el target\n",
        "target = \"¡Esto es una prueba de un algoritmo genético!\"\n",
        "#Definimos funciones para poder medir el tiempo\n",
        "startTime = datetime.datetime.now()\n",
        "#Definimos los mejores padres\n",
        "bestParent = generate_parent(len(target))\n",
        "#Encontramos los valores de aptitud de los mejores padres\n",
        "bestFitness = get_fitness(bestParent)\n",
        "#Mostramos el mejor de esa generación\n",
        "display(bestParent)\n",
        "#Un loop que se va a desarrollar hasta que ya no puedan mejorar las generaciones\n",
        "while True:\n",
        "    child = mutate(bestParent)\n",
        "    childFitness = get_fitness(child)\n",
        "\n",
        "    if bestFitness >= childFitness:\n",
        "        continue\n",
        "    display(child)\n",
        "    if childFitness >= len(bestParent):\n",
        "        break\n",
        "    bestFitness = childFitness\n",
        "    bestParent = child\n"
      ],
      "metadata": {
        "colab": {
          "base_uri": "https://localhost:8080/"
        },
        "id": "K68wv0MqStpR",
        "outputId": "afb0be25-a2b1-479a-fb54-42badf895193"
      },
      "execution_count": null,
      "outputs": [
        {
          "output_type": "stream",
          "name": "stdout",
          "text": [
            "yBYeCkz7sO nórf2ZJ4g¿69mWT1i!Vú,aHwlEN'¡í?á5b\t0\t0:00:00.000489\n",
            "yBYtCkz7sO nórf2ZJ4g¿69mWT1i!Vú,aHwlEN'¡í?á5b\t1\t0:00:00.001192\n",
            "yBYtCkz7sO nórf2ZJ4g¿69mWT1i!Vú,amwlEN'¡í?á5b\t2\t0:00:00.002290\n",
            "yBYtCkz7sO nórf2ZJ4g¿69mWT1i!Vú,amwlEN'¡í?áob\t3\t0:00:00.004334\n",
            "yBYtCkz7sO nórf2ZJ4g¿69mWT1i!Vr,amwlEN'¡í?áob\t4\t0:00:00.005829\n",
            "yBYtCkz7sO nórf2ZJ4g¿6 mWT1i!Vr,amwlEN'¡í?áob\t5\t0:00:00.006012\n",
            "yBYtCkz7sO nópf2ZJ4g¿6 mWT1i!Vr,amwlEN'¡í?áob\t6\t0:00:00.006592\n",
            "yBYtC z7sO nópf2ZJ4g¿6 mWT1i!Vr,amwlEN'¡í?áob\t7\t0:00:00.010498\n",
            "yBYtC z7sO nópf2ZJ4g¿6 mWT1i!Vr,amwlEe'¡í?áob\t8\t0:00:00.010930\n",
            "yBYtC z7sO nópf2ZJ4g¿6 uWT1i!Vr,amwlEe'¡í?áob\t9\t0:00:00.012212\n",
            "yBYtC z7sO nópf2ZJ4g¿6 uWT1i!or,amwlEe'¡í?áob\t10\t0:00:00.012885\n",
            "yBYtC z7sO nópf2ZJag¿6 uWT1i!or,amwlEe'¡í?áob\t11\t0:00:00.013497\n",
            "yBYtC z7sO nópf2ZJag¿6 uWT1i!or,amwlEen¡í?áob\t12\t0:00:00.014004\n",
            "yBYtC z7sO nópf2eJag¿6 uWT1i!or,amwlEen¡í?áob\t13\t0:00:00.014901\n",
            "yBYtC z7sO nópf2eJag¿6 uWT1i!or,amwlEen¡í?cob\t14\t0:00:00.016108\n",
            "yBYtC z7sO nópf2eJag¿6 unT1i!or,amwlEen¡í?cob\t15\t0:00:00.016752\n",
            "yBYto z7sO nópf2eJag¿6 unT1i!or,amwlEen¡í?cob\t16\t0:00:00.017614\n",
            "yBYto z7sO nópf2eJag¿6 unT1l!or,amwlEen¡í?cob\t17\t0:00:00.018097\n",
            "yBYto z7sO nópf2eJag¿6 unT1l!or,amwlgen¡í?cob\t18\t0:00:00.019839\n",
            "yBYto z7sO nópf2eJag¿6 unTal!or,amwlgen¡í?cob\t19\t0:00:00.020438\n",
            "yBYto z7sO nópf2eJag¿6 unTal!oriamwlgen¡í?cob\t20\t0:00:00.021111\n",
            "yBsto z7sO nópf2eJag¿6 unTal!oriamwlgen¡í?cob\t21\t0:00:00.023382\n",
            "yBsto z7sO nópf2eJag¿6 unTal!oriamolgen¡í?cob\t22\t0:00:00.030376\n",
            "yBsto z7sO nópf2eJag¿6 unTal!oriamolgen¡íicob\t23\t0:00:00.031058\n",
            "yEsto z7sO nópf2eJag¿6 unTal!oriamolgen¡íicob\t24\t0:00:00.032014\n",
            "yEsto z7sO aópf2eJag¿6 unTal!oriamolgen¡íicob\t25\t0:00:00.035598\n",
            "yEsto z7sO aópf2eJagd6 unTal!oriamolgen¡íicob\t26\t0:00:00.037331\n",
            "yEsto z7sO aópf2eJagd6 unTalgoriamolgen¡íicob\t27\t0:00:00.037530\n",
            "yEsto z7sO aópf2eJagd6 unTalgoriamolgen¡íico!\t28\t0:00:00.041227\n",
            "yEsto z7sO aópf2eJagd6 unTalgoritmolgen¡íico!\t29\t0:00:00.041570\n",
            "yEsto z7sO a pf2eJagd6 unTalgoritmolgen¡íico!\t30\t0:00:00.050752\n",
            "yEsto z7sO a pf2eJagd6 un algoritmolgen¡íico!\t31\t0:00:00.051915\n",
            "yEsto zssO a pf2eJagd6 un algoritmolgen¡íico!\t32\t0:00:00.056750\n",
            "yEsto zssOna pf2eJagd6 un algoritmolgen¡íico!\t33\t0:00:00.071602\n",
            "yEsto zssOna pf2eJagde un algoritmolgen¡íico!\t34\t0:00:00.074769\n",
            "yEsto zssOna pf2ebagde un algoritmolgen¡íico!\t35\t0:00:00.077293\n",
            "yEsto zssOna pf2ebagde un algoritmolgen¡tico!\t36\t0:00:00.081685\n",
            "yEsto zssOna pr2ebagde un algoritmolgen¡tico!\t37\t0:00:00.086473\n",
            "yEsto zssOna pr2ebagde un algoritmolgenético!\t38\t0:00:00.099655\n",
            "yEsto zs Ona pr2ebagde un algoritmolgenético!\t39\t0:00:00.108992\n",
            "yEsto zs Ona pruebagde un algoritmolgenético!\t40\t0:00:00.125234\n",
            "yEsto zs Ona pruebagde un algoritmo genético!\t41\t0:00:00.128995\n",
            "yEsto zs Ona prueba de un algoritmo genético!\t42\t0:00:00.141780\n",
            "¡Esto zs Ona prueba de un algoritmo genético!\t43\t0:00:00.158752\n",
            "¡Esto es Ona prueba de un algoritmo genético!\t44\t0:00:00.161890\n",
            "¡Esto es una prueba de un algoritmo genético!\t45\t0:00:00.204622\n"
          ]
        }
      ]
    }
  ]
}